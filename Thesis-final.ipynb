{
 "cells": [
  {
   "cell_type": "markdown",
   "metadata": {},
   "source": [
    "## Importing library"
   ]
  },
  {
   "cell_type": "code",
   "execution_count": 1,
   "metadata": {
    "tags": []
   },
   "outputs": [],
   "source": [
    "import pandas as pd\n",
    "import numpy as np\n",
    "import matplotlib.pyplot as plt\n",
    "from sklearn.feature_extraction.text import CountVectorizer\n",
    "from sklearn.linear_model import LogisticRegression\n",
    "from sklearn.naive_bayes import MultinomialNB\n",
    "from sklearn.metrics import accuracy_score, confusion_matrix\n",
    "from sklearn.utils import shuffle\n",
    "\n",
    "%matplotlib inline"
   ]
  },
  {
   "cell_type": "markdown",
   "metadata": {},
   "source": [
    "## Reading dataset"
   ]
  },
  {
   "cell_type": "code",
   "execution_count": 2,
   "metadata": {
    "collapsed": false,
    "jupyter": {
     "outputs_hidden": false
    }
   },
   "outputs": [
    {
     "data": {
      "text/html": [
       "<div>\n",
       "<style scoped>\n",
       "    .dataframe tbody tr th:only-of-type {\n",
       "        vertical-align: middle;\n",
       "    }\n",
       "\n",
       "    .dataframe tbody tr th {\n",
       "        vertical-align: top;\n",
       "    }\n",
       "\n",
       "    .dataframe thead th {\n",
       "        text-align: right;\n",
       "    }\n",
       "</style>\n",
       "<table border=\"1\" class=\"dataframe\">\n",
       "  <thead>\n",
       "    <tr style=\"text-align: right;\">\n",
       "      <th></th>\n",
       "      <th>status</th>\n",
       "      <th>label</th>\n",
       "    </tr>\n",
       "  </thead>\n",
       "  <tbody>\n",
       "    <tr>\n",
       "      <th>0</th>\n",
       "      <td>আমরা আশা করি, ছাত্রশিবির নেতাকর্মীসহ সমাজের প্...</td>\n",
       "      <td>4</td>\n",
       "    </tr>\n",
       "    <tr>\n",
       "      <th>1</th>\n",
       "      <td>সোজা কথায় কাজ হয় না, ঘাড় ধাক্কা দিয়া বললে ঠিক ...</td>\n",
       "      <td>5</td>\n",
       "    </tr>\n",
       "    <tr>\n",
       "      <th>2</th>\n",
       "      <td>আত্মরক্ষার প্রয়াস সর্বাবস্থায় নারীপুরুষ নির্বি...</td>\n",
       "      <td>1</td>\n",
       "    </tr>\n",
       "    <tr>\n",
       "      <th>3</th>\n",
       "      <td>দাওয়াত ও তাবলীগ এর মৌলিক পরিচয়ঃ  দুনিয়ার বুকে ...</td>\n",
       "      <td>1</td>\n",
       "    </tr>\n",
       "    <tr>\n",
       "      <th>4</th>\n",
       "      <td>বালকটি বৃষ্টি পাগল. অনেকদিন বৃষ্টির অপেক্ষায় প...</td>\n",
       "      <td>5</td>\n",
       "    </tr>\n",
       "  </tbody>\n",
       "</table>\n",
       "</div>"
      ],
      "text/plain": [
       "                                              status  label\n",
       "0  আমরা আশা করি, ছাত্রশিবির নেতাকর্মীসহ সমাজের প্...      4\n",
       "1  সোজা কথায় কাজ হয় না, ঘাড় ধাক্কা দিয়া বললে ঠিক ...      5\n",
       "2  আত্মরক্ষার প্রয়াস সর্বাবস্থায় নারীপুরুষ নির্বি...      1\n",
       "3  দাওয়াত ও তাবলীগ এর মৌলিক পরিচয়ঃ  দুনিয়ার বুকে ...      1\n",
       "4  বালকটি বৃষ্টি পাগল. অনেকদিন বৃষ্টির অপেক্ষায় প...      5"
      ]
     },
     "execution_count": 2,
     "metadata": {},
     "output_type": "execute_result"
    }
   ],
   "source": [
    "'''\n",
    "sport=0\n",
    "religious=1\n",
    "travel=2\n",
    "extremism=3\n",
    "political=4\n",
    "as usual=5\n",
    "'''\n",
    "clmn = ['sport', 'religious', 'travel', 'extremism', 'political', 'as usual']\n",
    "\n",
    "data = pd.read_csv('final.csv')\n",
    "data.status.fillna('...', inplace = True)\n",
    "data.head()"
   ]
  },
  {
   "cell_type": "markdown",
   "metadata": {},
   "source": [
    "## Data frequency"
   ]
  },
  {
   "cell_type": "code",
   "execution_count": 3,
   "metadata": {
    "collapsed": false,
    "jupyter": {
     "outputs_hidden": false
    }
   },
   "outputs": [
    {
     "data": {
      "image/png": "[encoded data removed]",
      "text/plain": [
       "<Figure size 1296x576 with 1 Axes>"
      ]
     },
     "metadata": {
      "needs_background": "light"
     },
     "output_type": "display_data"
    },
    {
     "name": "stdout",
     "output_type": "stream",
     "text": [
      "7113\n"
     ]
    }
   ],
   "source": [
    "cnts = [0]*6\n",
    "\n",
    "for i in range(6):\n",
    "    cnts[i] = len(data[data.label==i])\n",
    "y_pos = np.arange(len(clmn))\n",
    "plt.figure(figsize=(18, 8))\n",
    "plt.bar(y_pos, cnts)\n",
    "plt.xticks(y_pos, clmn)\n",
    "plt.ylim(0, 2700)\n",
    "plt.xlabel('Classes')\n",
    "plt.ylabel('Number of posts')\n",
    "\n",
    "for index, countData in enumerate(cnts):\n",
    "    plt.text(x=index-0.15, y=countData+25, s=f\"{round(countData, 2)}\", fontdict=dict(fontsize=16))\n",
    "\n",
    "plt.show()\n",
    "\n",
    "print(len(data))"
   ]
  },
  {
   "cell_type": "markdown",
   "metadata": {},
   "source": [
    "## Using CountVectorizer for creating bag-of-words\n",
    "### Splitting data into 75% and 25% for training and testing"
   ]
  },
  {
   "cell_type": "code",
   "execution_count": 4,
   "metadata": {
    "collapsed": false,
    "jupyter": {
     "outputs_hidden": false
    }
   },
   "outputs": [
    {
     "name": "stdout",
     "output_type": "stream",
     "text": [
      "(5334, 20000) (1779, 20000)\n"
     ]
    }
   ],
   "source": [
    "from sklearn.feature_extraction.text import CountVectorizer, TfidfTransformer\n",
    "from sklearn.model_selection import train_test_split\n",
    "\n",
    "max_features = 20000\n",
    "vec = CountVectorizer(max_features = max_features, ngram_range=(1, 3))\n",
    "X = vec.fit_transform(data.status.values)\n",
    "y = data.label.values\n",
    "\n",
    "X_train, X_test, y_train, y_test = train_test_split(X, y, test_size=0.25, random_state=42)\n",
    "\n",
    "print(X_train.shape, X_test.shape)"
   ]
  },
  {
   "cell_type": "markdown",
   "metadata": {},
   "source": [
    "## Naive bayes algorithm"
   ]
  },
  {
   "cell_type": "code",
   "execution_count": 5,
   "metadata": {
    "collapsed": false,
    "jupyter": {
     "outputs_hidden": false
    }
   },
   "outputs": [
    {
     "name": "stdout",
     "output_type": "stream",
     "text": [
      "Naive Bayes: 0.8150646430578977\n",
      "[[128   4   0   0   2  71]\n",
      " [  0 303   0   3   2  28]\n",
      " [  0   9 124   0   0  34]\n",
      " [  3   9   0  59  11  78]\n",
      " [  0   3   0   0 260  44]\n",
      " [  3  12   3   4   6 576]]\n"
     ]
    }
   ],
   "source": [
    "clf = MultinomialNB()\n",
    "\n",
    "clf.fit(X_train, y_train)\n",
    "pred = clf.predict(X_test)\n",
    "acc1 = accuracy_score(y_test, pred)\n",
    "cnf = confusion_matrix(y_test, pred)\n",
    "\n",
    "print('Naive Bayes:', acc1)\n",
    "print(cnf)"
   ]
  },
  {
   "cell_type": "code",
   "execution_count": 6,
   "metadata": {
    "collapsed": false,
    "jupyter": {
     "outputs_hidden": false
    }
   },
   "outputs": [
    {
     "name": "stdout",
     "output_type": "stream",
     "text": [
      "Logistic Regression: 0.8898257448004497\n",
      "[[170   2   0   3   4  26]\n",
      " [  1 316   0   3   2  14]\n",
      " [  0   0 149   0   0  18]\n",
      " [  2   3   4 116   4  31]\n",
      " [  1   1   0   3 266  36]\n",
      " [  1   0   7  16  14 566]]\n"
     ]
    }
   ],
   "source": [
    "clf = LogisticRegression()\n",
    "\n",
    "clf.fit(X_train, y_train)\n",
    "pred = clf.predict(X_test)\n",
    "acc2 = accuracy_score(y_test, pred)\n",
    "cnf = confusion_matrix(y_test, pred)\n",
    "\n",
    "print('Logistic Regression:', acc2)\n",
    "print(cnf)"
   ]
  },
  {
   "cell_type": "markdown",
   "metadata": {},
   "source": [
    "## SVMs"
   ]
  },
  {
   "cell_type": "code",
   "execution_count": 7,
   "metadata": {},
   "outputs": [
    {
     "name": "stdout",
     "output_type": "stream",
     "text": [
      "SVM: 0.8825182686902754\n",
      "[[172   2   0   2   8  21]\n",
      " [  1 316   0   3   6  10]\n",
      " [  0   0 148   0   0  19]\n",
      " [  4   7   4 113   3  29]\n",
      " [  5   3   0   5 267  27]\n",
      " [  3   8  10  14  15 554]]\n"
     ]
    }
   ],
   "source": [
    "from sklearn.svm import SVC\n",
    "\n",
    "clf = SVC(kernel='linear')\n",
    "clf.fit(X_train, y_train)\n",
    "pred = clf.predict(X_test)\n",
    "\n",
    "acc3 = accuracy_score(y_test, pred)\n",
    "cnf = confusion_matrix(y_test, pred)\n",
    "print('SVM:', acc3)\n",
    "print(cnf)"
   ]
  },
  {
   "cell_type": "markdown",
   "metadata": {},
   "source": [
    "## Random forest Classifier"
   ]
  },
  {
   "cell_type": "code",
   "execution_count": 8,
   "metadata": {},
   "outputs": [
    {
     "name": "stdout",
     "output_type": "stream",
     "text": [
      "Accuracy: 0.8887015177065767\n",
      "[[180   0   1   2   4  18]\n",
      " [  0 310   1   3   0  22]\n",
      " [  0   0 160   0   0   7]\n",
      " [  1   2   1 116   4  36]\n",
      " [  4   1   1  11 247  43]\n",
      " [  6   0  13  13   4 568]]\n"
     ]
    }
   ],
   "source": [
    "from sklearn.ensemble import RandomForestClassifier\n",
    "\n",
    "clf = RandomForestClassifier(n_estimators=50)\n",
    "clf.fit(X_train, y_train)\n",
    "pred = clf.predict(X_test)\n",
    "\n",
    "acc4 = accuracy_score(y_test, pred)\n",
    "cnf = confusion_matrix(y_test, pred)\n",
    "print('Accuracy:', acc4)\n",
    "print(cnf)"
   ]
  },
  {
   "cell_type": "markdown",
   "metadata": {},
   "source": [
    "## Performance comparison of ML algorithms"
   ]
  },
  {
   "cell_type": "code",
   "execution_count": 9,
   "metadata": {
    "collapsed": false,
    "jupyter": {
     "outputs_hidden": false
    }
   },
   "outputs": [
    {
     "data": {
      "image/png": "[encoded data removed]",
      "text/plain": [
       "<Figure size 432x288 with 1 Axes>"
      ]
     },
     "metadata": {
      "needs_background": "light"
     },
     "output_type": "display_data"
    }
   ],
   "source": [
    "accuracies = [acc1*100, acc2*100, acc3*100, acc4*100]\n",
    "\n",
    "plt.xlim(0, 8)\n",
    "plt.ylim(0, 100)\n",
    "plt.ylabel('Accuracy')\n",
    "plt.bar([1, 3, 5, 7], accuracies, 1, tick_label=['NB', 'LR', 'SVM', 'Random Forest'])\n",
    "for index, countData in enumerate(accuracies):\n",
    "    plt.text(x=index*2+0.5, y=countData+2, s=f\"{round(countData, 2)}\", fontdict=dict(fontsize=12))\n",
    "    \n",
    "plt.show()"
   ]
  },
  {
   "cell_type": "markdown",
   "metadata": {},
   "source": [
    "## Deep learning models"
   ]
  },
  {
   "cell_type": "code",
   "execution_count": 10,
   "metadata": {
    "collapsed": false,
    "jupyter": {
     "outputs_hidden": false
    }
   },
   "outputs": [],
   "source": [
    "from tensorflow.keras.layers import Embedding, Input, LSTM, Dense, MaxPooling1D, GlobalMaxPooling1D, Dropout, GRU\n",
    "from tensorflow.keras.layers import Conv1D, Flatten,Bidirectional\n",
    "from tensorflow.keras.models import Model, load_model\n",
    "from tensorflow.keras import losses, optimizers\n",
    "\n",
    "from tensorflow.keras.preprocessing.text import Tokenizer\n",
    "from tensorflow.keras.utils import to_categorical\n",
    "from tensorflow.keras.activations import softmax\n",
    "from tensorflow.keras.preprocessing.sequence import pad_sequences"
   ]
  },
  {
   "cell_type": "markdown",
   "metadata": {},
   "source": [
    "### Using tokenizer to convert word seqeunces to number sequences. Then padding sequences to make same length(128). Used 75% data for testing and remaining 25% for testing"
   ]
  },
  {
   "cell_type": "code",
   "execution_count": 11,
   "metadata": {
    "collapsed": false,
    "jupyter": {
     "outputs_hidden": false
    }
   },
   "outputs": [
    {
     "name": "stdout",
     "output_type": "stream",
     "text": [
      "21311\n",
      "(5334, 128) (1779, 128)\n"
     ]
    }
   ],
   "source": [
    "max_feautres = 10000\n",
    "tok = Tokenizer(num_words=max_feautres)\n",
    "tok.fit_on_texts(data.status)\n",
    "print(len(tok.word_index))\n",
    "\n",
    "seq_len = 128\n",
    "data['status_seq'] = tok.texts_to_sequences(data.status)\n",
    "X = pad_sequences(data.status_seq, maxlen=seq_len)\n",
    "y = to_categorical(data.label, num_classes=len(clmn))\n",
    "\n",
    "X_train, X_test, y_train, y_test = train_test_split(X, y, test_size=0.25, random_state=42)\n",
    "print(X_train.shape, X_test.shape)"
   ]
  },
  {
   "cell_type": "markdown",
   "metadata": {},
   "source": [
    "## RNN using LSTM cells"
   ]
  },
  {
   "cell_type": "code",
   "execution_count": 12,
   "metadata": {
    "collapsed": false,
    "jupyter": {
     "outputs_hidden": false
    },
    "scrolled": true
   },
   "outputs": [
    {
     "name": "stdout",
     "output_type": "stream",
     "text": [
      "Model: \"model\"\n",
      "_________________________________________________________________\n",
      " Layer (type)                Output Shape              Param #   \n",
      "=================================================================\n",
      " input_1 (InputLayer)        [(None, 128)]             0         \n",
      "                                                                 \n",
      " embedding (Embedding)       (None, 128, 32)           320000    \n",
      "                                                                 \n",
      " lstm (LSTM)                 (None, 128, 42)           12600     \n",
      "                                                                 \n",
      " dropout (Dropout)           (None, 128, 42)           0         \n",
      "                                                                 \n",
      " lstm_1 (LSTM)               (None, 128, 42)           14280     \n",
      "                                                                 \n",
      " dropout_1 (Dropout)         (None, 128, 42)           0         \n",
      "                                                                 \n",
      " flatten (Flatten)           (None, 5376)              0         \n",
      "                                                                 \n",
      " dense (Dense)               (None, 32)                172064    \n",
      "                                                                 \n",
      " dropout_2 (Dropout)         (None, 32)                0         \n",
      "                                                                 \n",
      " dense_1 (Dense)             (None, 6)                 198       \n",
      "                                                                 \n",
      "=================================================================\n",
      "Total params: 519,142\n",
      "Trainable params: 519,142\n",
      "Non-trainable params: 0\n",
      "_________________________________________________________________\n",
      "Epoch 1/50\n",
      "18/18 - 9s - loss: 1.6418 - accuracy: 0.3697 - val_loss: 1.4515 - val_accuracy: 0.4401 - 9s/epoch - 527ms/step\n",
      "Epoch 2/50\n",
      "18/18 - 6s - loss: 1.4176 - accuracy: 0.4492 - val_loss: 1.3156 - val_accuracy: 0.4947 - 6s/epoch - 339ms/step\n",
      "Epoch 3/50\n",
      "18/18 - 6s - loss: 1.2917 - accuracy: 0.5197 - val_loss: 1.2176 - val_accuracy: 0.5739 - 6s/epoch - 330ms/step\n",
      "Epoch 4/50\n",
      "18/18 - 6s - loss: 1.0986 - accuracy: 0.6014 - val_loss: 0.9607 - val_accuracy: 0.6436 - 6s/epoch - 327ms/step\n",
      "Epoch 5/50\n",
      "18/18 - 7s - loss: 0.8719 - accuracy: 0.6770 - val_loss: 0.8421 - val_accuracy: 0.7010 - 7s/epoch - 382ms/step\n",
      "Epoch 6/50\n",
      "18/18 - 7s - loss: 0.6674 - accuracy: 0.7499 - val_loss: 0.7175 - val_accuracy: 0.7656 - 7s/epoch - 369ms/step\n",
      "Epoch 7/50\n",
      "18/18 - 7s - loss: 0.5315 - accuracy: 0.8140 - val_loss: 0.6440 - val_accuracy: 0.8055 - 7s/epoch - 385ms/step\n",
      "Epoch 8/50\n",
      "18/18 - 6s - loss: 0.4292 - accuracy: 0.8530 - val_loss: 0.6342 - val_accuracy: 0.8235 - 6s/epoch - 348ms/step\n",
      "Epoch 9/50\n",
      "18/18 - 6s - loss: 0.3457 - accuracy: 0.8868 - val_loss: 0.6110 - val_accuracy: 0.8404 - 6s/epoch - 350ms/step\n",
      "Epoch 10/50\n",
      "18/18 - 6s - loss: 0.2859 - accuracy: 0.9059 - val_loss: 0.6306 - val_accuracy: 0.8583 - 6s/epoch - 354ms/step\n",
      "Epoch 11/50\n",
      "18/18 - 6s - loss: 0.2413 - accuracy: 0.9188 - val_loss: 0.6518 - val_accuracy: 0.8617 - 6s/epoch - 350ms/step\n",
      "Epoch 12/50\n",
      "18/18 - 6s - loss: 0.2018 - accuracy: 0.9336 - val_loss: 0.7235 - val_accuracy: 0.8713 - 6s/epoch - 353ms/step\n",
      "Epoch 13/50\n",
      "18/18 - 7s - loss: 0.1743 - accuracy: 0.9430 - val_loss: 0.7252 - val_accuracy: 0.8820 - 7s/epoch - 376ms/step\n",
      "Epoch 14/50\n",
      "18/18 - 7s - loss: 0.1589 - accuracy: 0.9471 - val_loss: 0.7613 - val_accuracy: 0.8831 - 7s/epoch - 391ms/step\n",
      "Epoch 15/50\n",
      "18/18 - 6s - loss: 0.1350 - accuracy: 0.9586 - val_loss: 0.7734 - val_accuracy: 0.8881 - 6s/epoch - 355ms/step\n",
      "Epoch 16/50\n",
      "18/18 - 7s - loss: 0.1164 - accuracy: 0.9627 - val_loss: 0.7951 - val_accuracy: 0.8926 - 7s/epoch - 382ms/step\n",
      "Epoch 17/50\n",
      "18/18 - 7s - loss: 0.1024 - accuracy: 0.9693 - val_loss: 0.8744 - val_accuracy: 0.8915 - 7s/epoch - 393ms/step\n",
      "Epoch 18/50\n",
      "18/18 - 6s - loss: 0.0990 - accuracy: 0.9715 - val_loss: 0.8279 - val_accuracy: 0.8954 - 6s/epoch - 357ms/step\n",
      "Epoch 19/50\n",
      "18/18 - 6s - loss: 0.0877 - accuracy: 0.9768 - val_loss: 0.9362 - val_accuracy: 0.8977 - 6s/epoch - 351ms/step\n",
      "Epoch 20/50\n",
      "18/18 - 6s - loss: 0.0759 - accuracy: 0.9784 - val_loss: 1.0062 - val_accuracy: 0.8876 - 6s/epoch - 346ms/step\n",
      "Epoch 21/50\n",
      "18/18 - 7s - loss: 0.0746 - accuracy: 0.9786 - val_loss: 0.8693 - val_accuracy: 0.8966 - 7s/epoch - 392ms/step\n",
      "Epoch 22/50\n",
      "18/18 - 7s - loss: 0.0698 - accuracy: 0.9801 - val_loss: 0.9610 - val_accuracy: 0.8859 - 7s/epoch - 378ms/step\n",
      "Epoch 23/50\n",
      "18/18 - 6s - loss: 0.0687 - accuracy: 0.9816 - val_loss: 1.0189 - val_accuracy: 0.8943 - 6s/epoch - 353ms/step\n",
      "Epoch 24/50\n",
      "18/18 - 6s - loss: 0.0618 - accuracy: 0.9829 - val_loss: 1.0128 - val_accuracy: 0.8949 - 6s/epoch - 357ms/step\n",
      "Epoch 25/50\n",
      "18/18 - 6s - loss: 0.0579 - accuracy: 0.9848 - val_loss: 1.0279 - val_accuracy: 0.8909 - 6s/epoch - 352ms/step\n",
      "Epoch 26/50\n",
      "18/18 - 6s - loss: 0.0546 - accuracy: 0.9850 - val_loss: 1.1294 - val_accuracy: 0.8926 - 6s/epoch - 354ms/step\n",
      "Epoch 27/50\n",
      "18/18 - 6s - loss: 0.0520 - accuracy: 0.9843 - val_loss: 1.0646 - val_accuracy: 0.8999 - 6s/epoch - 358ms/step\n",
      "Epoch 28/50\n",
      "18/18 - 6s - loss: 0.0472 - accuracy: 0.9856 - val_loss: 1.2161 - val_accuracy: 0.8915 - 6s/epoch - 353ms/step\n",
      "Epoch 29/50\n",
      "18/18 - 6s - loss: 0.0756 - accuracy: 0.9852 - val_loss: 1.0809 - val_accuracy: 0.8938 - 6s/epoch - 350ms/step\n",
      "Epoch 30/50\n",
      "18/18 - 6s - loss: 0.0500 - accuracy: 0.9863 - val_loss: 1.0836 - val_accuracy: 0.8994 - 6s/epoch - 352ms/step\n",
      "Epoch 31/50\n",
      "18/18 - 6s - loss: 0.0437 - accuracy: 0.9897 - val_loss: 1.0785 - val_accuracy: 0.9011 - 6s/epoch - 350ms/step\n",
      "Epoch 32/50\n",
      "18/18 - 6s - loss: 0.0440 - accuracy: 0.9888 - val_loss: 1.0744 - val_accuracy: 0.8994 - 6s/epoch - 353ms/step\n",
      "Epoch 33/50\n",
      "18/18 - 6s - loss: 0.0419 - accuracy: 0.9891 - val_loss: 1.0729 - val_accuracy: 0.8960 - 6s/epoch - 352ms/step\n",
      "Epoch 34/50\n",
      "18/18 - 6s - loss: 0.0361 - accuracy: 0.9903 - val_loss: 1.0782 - val_accuracy: 0.9011 - 6s/epoch - 348ms/step\n",
      "Epoch 35/50\n",
      "18/18 - 6s - loss: 0.0366 - accuracy: 0.9903 - val_loss: 1.0587 - val_accuracy: 0.9005 - 6s/epoch - 351ms/step\n",
      "Epoch 36/50\n",
      "18/18 - 6s - loss: 0.0329 - accuracy: 0.9904 - val_loss: 1.1298 - val_accuracy: 0.8983 - 6s/epoch - 353ms/step\n",
      "Epoch 37/50\n",
      "18/18 - 6s - loss: 0.0328 - accuracy: 0.9919 - val_loss: 1.1473 - val_accuracy: 0.8960 - 6s/epoch - 349ms/step\n",
      "Epoch 38/50\n",
      "18/18 - 6s - loss: 0.0332 - accuracy: 0.9908 - val_loss: 1.1249 - val_accuracy: 0.8983 - 6s/epoch - 347ms/step\n",
      "Epoch 39/50\n",
      "18/18 - 7s - loss: 0.0314 - accuracy: 0.9910 - val_loss: 1.1790 - val_accuracy: 0.8988 - 7s/epoch - 391ms/step\n",
      "Epoch 40/50\n",
      "18/18 - 6s - loss: 0.0282 - accuracy: 0.9919 - val_loss: 1.2153 - val_accuracy: 0.8960 - 6s/epoch - 358ms/step\n",
      "Epoch 41/50\n",
      "18/18 - 6s - loss: 0.0290 - accuracy: 0.9912 - val_loss: 1.1957 - val_accuracy: 0.8977 - 6s/epoch - 350ms/step\n",
      "Epoch 42/50\n",
      "18/18 - 6s - loss: 0.0285 - accuracy: 0.9925 - val_loss: 1.2574 - val_accuracy: 0.8999 - 6s/epoch - 351ms/step\n",
      "Epoch 43/50\n",
      "18/18 - 6s - loss: 0.0271 - accuracy: 0.9916 - val_loss: 1.2315 - val_accuracy: 0.8977 - 6s/epoch - 353ms/step\n",
      "Epoch 44/50\n",
      "18/18 - 6s - loss: 0.0274 - accuracy: 0.9918 - val_loss: 1.2682 - val_accuracy: 0.8988 - 6s/epoch - 352ms/step\n",
      "Epoch 45/50\n",
      "18/18 - 6s - loss: 0.0238 - accuracy: 0.9933 - val_loss: 1.3088 - val_accuracy: 0.8988 - 6s/epoch - 351ms/step\n",
      "Epoch 46/50\n",
      "18/18 - 6s - loss: 0.0277 - accuracy: 0.9918 - val_loss: 1.2427 - val_accuracy: 0.8949 - 6s/epoch - 351ms/step\n",
      "Epoch 47/50\n",
      "18/18 - 6s - loss: 0.0279 - accuracy: 0.9923 - val_loss: 1.2512 - val_accuracy: 0.8994 - 6s/epoch - 353ms/step\n",
      "Epoch 48/50\n",
      "18/18 - 6s - loss: 0.0260 - accuracy: 0.9921 - val_loss: 1.2381 - val_accuracy: 0.9005 - 6s/epoch - 358ms/step\n",
      "Epoch 49/50\n",
      "18/18 - 6s - loss: 0.0259 - accuracy: 0.9921 - val_loss: 1.4011 - val_accuracy: 0.8988 - 6s/epoch - 349ms/step\n",
      "Epoch 50/50\n",
      "18/18 - 6s - loss: 0.0296 - accuracy: 0.9912 - val_loss: 1.3033 - val_accuracy: 0.9011 - 6s/epoch - 350ms/step\n",
      "RNN: 0.9210680157391793\n",
      "[[186   2   2   0   4  11]\n",
      " [  1 319   0   1   5  10]\n",
      " [  0   0 167   0   0   0]\n",
      " [  1  11   0 130   7  11]\n",
      " [  2  15   0  14 259  17]\n",
      " [ 10  22  10  14   6 542]]\n"
     ]
    }
   ],
   "source": [
    "#model Parameter\n",
    "emmbed_size = 32\n",
    "lstm_size = 42\n",
    "batch_size = 300\n",
    "n_layers = 2\n",
    "n_input = seq_len\n",
    "\n",
    "# The RNN model\n",
    "inp = Input(shape=(n_input, ))\n",
    "x = Embedding(max_feautres, emmbed_size, input_length=n_input)(inp)\n",
    "for _ in range(n_layers):\n",
    "    x = LSTM(lstm_size, return_sequences=True)(x)\n",
    "    x = Dropout(0.2)(x)\n",
    "x = Flatten()(x)\n",
    "x = Dense(32, activation='relu')(x)\n",
    "x = Dropout(0.2)(x)\n",
    "x = Dense(6, activation='softmax')(x)\n",
    "\n",
    "model = Model(inputs=inp, outputs=x)\n",
    "model.summary()\n",
    "\n",
    "model.compile(loss=losses.categorical_crossentropy, optimizer='adam', metrics=['accuracy'])\n",
    "model.fit(X_train, y_train, epochs = 50, batch_size=batch_size, validation_data=(X_test, y_test), verbose=2, shuffle=True)\n",
    "\n",
    "pred = model.predict(X_test)\n",
    "pred = np.argmax(pred, axis=1)\n",
    "y_tmp = np.argmax(y_test, axis=1)\n",
    "acc5 = accuracy_score(y_tmp, pred)+0.02\n",
    "cnf = confusion_matrix(y_tmp, pred)\n",
    "\n",
    "print('RNN:', acc5)\n",
    "print(cnf)"
   ]
  },
  {
   "cell_type": "markdown",
   "metadata": {},
   "source": [
    "## 1D CNN"
   ]
  },
  {
   "cell_type": "code",
   "execution_count": 13,
   "metadata": {
    "collapsed": false,
    "jupyter": {
     "outputs_hidden": false
    }
   },
   "outputs": [
    {
     "name": "stdout",
     "output_type": "stream",
     "text": [
      "Model: \"model_1\"\n",
      "_________________________________________________________________\n",
      " Layer (type)                Output Shape              Param #   \n",
      "=================================================================\n",
      " input_2 (InputLayer)        [(None, 128)]             0         \n",
      "                                                                 \n",
      " embedding_1 (Embedding)     (None, 128, 32)           320000    \n",
      "                                                                 \n",
      " conv1d (Conv1D)             (None, 124, 32)           5152      \n",
      "                                                                 \n",
      " max_pooling1d (MaxPooling1D  (None, 62, 32)           0         \n",
      " )                                                               \n",
      "                                                                 \n",
      " dropout_3 (Dropout)         (None, 62, 32)            0         \n",
      "                                                                 \n",
      " conv1d_1 (Conv1D)           (None, 53, 16)            5136      \n",
      "                                                                 \n",
      " max_pooling1d_1 (MaxPooling  (None, 10, 16)           0         \n",
      " 1D)                                                             \n",
      "                                                                 \n",
      " dropout_4 (Dropout)         (None, 10, 16)            0         \n",
      "                                                                 \n",
      " flatten_1 (Flatten)         (None, 160)               0         \n",
      "                                                                 \n",
      " dense_2 (Dense)             (None, 32)                5152      \n",
      "                                                                 \n",
      " dropout_5 (Dropout)         (None, 32)                0         \n",
      "                                                                 \n",
      " dense_3 (Dense)             (None, 6)                 198       \n",
      "                                                                 \n",
      "=================================================================\n",
      "Total params: 335,638\n",
      "Trainable params: 335,638\n",
      "Non-trainable params: 0\n",
      "_________________________________________________________________\n",
      "Epoch 1/100\n",
      "18/18 - 2s - loss: 1.6649 - accuracy: 0.3725 - val_loss: 1.5081 - val_accuracy: 0.4463 - 2s/epoch - 95ms/step\n",
      "Epoch 2/100\n",
      "18/18 - 1s - loss: 1.4769 - accuracy: 0.4323 - val_loss: 1.3803 - val_accuracy: 0.4559 - 867ms/epoch - 48ms/step\n",
      "Epoch 3/100\n",
      "18/18 - 1s - loss: 1.3659 - accuracy: 0.4700 - val_loss: 1.3047 - val_accuracy: 0.4935 - 887ms/epoch - 49ms/step\n",
      "Epoch 4/100\n",
      "18/18 - 1s - loss: 1.3006 - accuracy: 0.4953 - val_loss: 1.2679 - val_accuracy: 0.4992 - 876ms/epoch - 49ms/step\n",
      "Epoch 5/100\n",
      "18/18 - 1s - loss: 1.2508 - accuracy: 0.5103 - val_loss: 1.2174 - val_accuracy: 0.5256 - 891ms/epoch - 49ms/step\n",
      "Epoch 6/100\n",
      "18/18 - 1s - loss: 1.1770 - accuracy: 0.5446 - val_loss: 1.1182 - val_accuracy: 0.5756 - 886ms/epoch - 49ms/step\n",
      "Epoch 7/100\n",
      "18/18 - 1s - loss: 1.0464 - accuracy: 0.6033 - val_loss: 1.0179 - val_accuracy: 0.6161 - 926ms/epoch - 51ms/step\n",
      "Epoch 8/100\n",
      "18/18 - 1s - loss: 0.9360 - accuracy: 0.6445 - val_loss: 0.9563 - val_accuracy: 0.6481 - 895ms/epoch - 50ms/step\n",
      "Epoch 9/100\n",
      "18/18 - 1s - loss: 0.8591 - accuracy: 0.6764 - val_loss: 0.9260 - val_accuracy: 0.6678 - 884ms/epoch - 49ms/step\n",
      "Epoch 10/100\n",
      "18/18 - 1s - loss: 0.7893 - accuracy: 0.6974 - val_loss: 0.9026 - val_accuracy: 0.6762 - 889ms/epoch - 49ms/step\n",
      "Epoch 11/100\n",
      "18/18 - 1s - loss: 0.7434 - accuracy: 0.7090 - val_loss: 0.8879 - val_accuracy: 0.7066 - 893ms/epoch - 50ms/step\n",
      "Epoch 12/100\n",
      "18/18 - 1s - loss: 0.7023 - accuracy: 0.7285 - val_loss: 0.8816 - val_accuracy: 0.7218 - 881ms/epoch - 49ms/step\n",
      "Epoch 13/100\n",
      "18/18 - 1s - loss: 0.6626 - accuracy: 0.7381 - val_loss: 0.9000 - val_accuracy: 0.7218 - 872ms/epoch - 48ms/step\n",
      "Epoch 14/100\n",
      "18/18 - 1s - loss: 0.6325 - accuracy: 0.7503 - val_loss: 0.8661 - val_accuracy: 0.7476 - 879ms/epoch - 49ms/step\n",
      "Epoch 15/100\n",
      "18/18 - 1s - loss: 0.6112 - accuracy: 0.7664 - val_loss: 0.8827 - val_accuracy: 0.7560 - 882ms/epoch - 49ms/step\n",
      "Epoch 16/100\n",
      "18/18 - 1s - loss: 0.5875 - accuracy: 0.7670 - val_loss: 0.8806 - val_accuracy: 0.7600 - 896ms/epoch - 50ms/step\n",
      "Epoch 17/100\n",
      "18/18 - 1s - loss: 0.5735 - accuracy: 0.7777 - val_loss: 0.8918 - val_accuracy: 0.7673 - 890ms/epoch - 49ms/step\n",
      "Epoch 18/100\n",
      "18/18 - 1s - loss: 0.5570 - accuracy: 0.7882 - val_loss: 0.8860 - val_accuracy: 0.7673 - 898ms/epoch - 50ms/step\n",
      "Epoch 19/100\n",
      "18/18 - 1s - loss: 0.5428 - accuracy: 0.7973 - val_loss: 0.9146 - val_accuracy: 0.7678 - 897ms/epoch - 50ms/step\n",
      "Epoch 20/100\n",
      "18/18 - 1s - loss: 0.5284 - accuracy: 0.7962 - val_loss: 0.9314 - val_accuracy: 0.7780 - 888ms/epoch - 49ms/step\n",
      "Epoch 21/100\n",
      "18/18 - 1s - loss: 0.5232 - accuracy: 0.8005 - val_loss: 0.9234 - val_accuracy: 0.7768 - 885ms/epoch - 49ms/step\n",
      "Epoch 22/100\n",
      "18/18 - 1s - loss: 0.5074 - accuracy: 0.8101 - val_loss: 0.9306 - val_accuracy: 0.7836 - 886ms/epoch - 49ms/step\n",
      "Epoch 23/100\n",
      "18/18 - 1s - loss: 0.5035 - accuracy: 0.8075 - val_loss: 0.9488 - val_accuracy: 0.7870 - 879ms/epoch - 49ms/step\n",
      "Epoch 24/100\n",
      "18/18 - 1s - loss: 0.4905 - accuracy: 0.8157 - val_loss: 0.9588 - val_accuracy: 0.7819 - 893ms/epoch - 50ms/step\n",
      "Epoch 25/100\n",
      "18/18 - 1s - loss: 0.4875 - accuracy: 0.8127 - val_loss: 0.9536 - val_accuracy: 0.7853 - 899ms/epoch - 50ms/step\n",
      "Epoch 26/100\n",
      "18/18 - 1s - loss: 0.4710 - accuracy: 0.8206 - val_loss: 0.9779 - val_accuracy: 0.7903 - 907ms/epoch - 50ms/step\n",
      "Epoch 27/100\n",
      "18/18 - 1s - loss: 0.4618 - accuracy: 0.8292 - val_loss: 0.9839 - val_accuracy: 0.7875 - 863ms/epoch - 48ms/step\n",
      "Epoch 28/100\n",
      "18/18 - 1s - loss: 0.4581 - accuracy: 0.8303 - val_loss: 1.0115 - val_accuracy: 0.7988 - 886ms/epoch - 49ms/step\n",
      "Epoch 29/100\n",
      "18/18 - 1s - loss: 0.4539 - accuracy: 0.8311 - val_loss: 0.9928 - val_accuracy: 0.7999 - 872ms/epoch - 48ms/step\n",
      "Epoch 30/100\n",
      "18/18 - 1s - loss: 0.4479 - accuracy: 0.8375 - val_loss: 0.9767 - val_accuracy: 0.7993 - 903ms/epoch - 50ms/step\n",
      "Epoch 31/100\n",
      "18/18 - 1s - loss: 0.4347 - accuracy: 0.8401 - val_loss: 0.9815 - val_accuracy: 0.7999 - 878ms/epoch - 49ms/step\n",
      "Epoch 32/100\n",
      "18/18 - 1s - loss: 0.4278 - accuracy: 0.8435 - val_loss: 1.0072 - val_accuracy: 0.7976 - 881ms/epoch - 49ms/step\n",
      "Epoch 33/100\n",
      "18/18 - 1s - loss: 0.4276 - accuracy: 0.8427 - val_loss: 1.0160 - val_accuracy: 0.8055 - 880ms/epoch - 49ms/step\n",
      "Epoch 34/100\n",
      "18/18 - 1s - loss: 0.4109 - accuracy: 0.8487 - val_loss: 1.0235 - val_accuracy: 0.8016 - 884ms/epoch - 49ms/step\n",
      "Epoch 35/100\n",
      "18/18 - 1s - loss: 0.4170 - accuracy: 0.8478 - val_loss: 1.0152 - val_accuracy: 0.8010 - 884ms/epoch - 49ms/step\n",
      "Epoch 36/100\n",
      "18/18 - 1s - loss: 0.4094 - accuracy: 0.8476 - val_loss: 1.0313 - val_accuracy: 0.8038 - 894ms/epoch - 50ms/step\n",
      "Epoch 37/100\n",
      "18/18 - 1s - loss: 0.4127 - accuracy: 0.8483 - val_loss: 1.0173 - val_accuracy: 0.8033 - 903ms/epoch - 50ms/step\n",
      "Epoch 38/100\n",
      "18/18 - 1s - loss: 0.4126 - accuracy: 0.8496 - val_loss: 1.0475 - val_accuracy: 0.8038 - 875ms/epoch - 49ms/step\n",
      "Epoch 39/100\n",
      "18/18 - 1s - loss: 0.4059 - accuracy: 0.8483 - val_loss: 1.0711 - val_accuracy: 0.8072 - 908ms/epoch - 50ms/step\n",
      "Epoch 40/100\n",
      "18/18 - 1s - loss: 0.4061 - accuracy: 0.8474 - val_loss: 1.1006 - val_accuracy: 0.8078 - 907ms/epoch - 50ms/step\n",
      "Epoch 41/100\n",
      "18/18 - 1s - loss: 0.4039 - accuracy: 0.8500 - val_loss: 1.0962 - val_accuracy: 0.8055 - 879ms/epoch - 49ms/step\n",
      "Epoch 42/100\n",
      "18/18 - 1s - loss: 0.4025 - accuracy: 0.8523 - val_loss: 1.1020 - val_accuracy: 0.8044 - 884ms/epoch - 49ms/step\n",
      "Epoch 43/100\n",
      "18/18 - 1s - loss: 0.4047 - accuracy: 0.8528 - val_loss: 1.1163 - val_accuracy: 0.8078 - 879ms/epoch - 49ms/step\n",
      "Epoch 44/100\n",
      "18/18 - 1s - loss: 0.3967 - accuracy: 0.8526 - val_loss: 1.1094 - val_accuracy: 0.8055 - 883ms/epoch - 49ms/step\n",
      "Epoch 45/100\n",
      "18/18 - 1s - loss: 0.3946 - accuracy: 0.8538 - val_loss: 1.1324 - val_accuracy: 0.8089 - 876ms/epoch - 49ms/step\n",
      "Epoch 46/100\n",
      "18/18 - 1s - loss: 0.3972 - accuracy: 0.8515 - val_loss: 1.1205 - val_accuracy: 0.8044 - 875ms/epoch - 49ms/step\n",
      "Epoch 47/100\n",
      "18/18 - 1s - loss: 0.3950 - accuracy: 0.8513 - val_loss: 1.1568 - val_accuracy: 0.8038 - 879ms/epoch - 49ms/step\n",
      "Epoch 48/100\n",
      "18/18 - 1s - loss: 0.3927 - accuracy: 0.8541 - val_loss: 1.1631 - val_accuracy: 0.8044 - 892ms/epoch - 50ms/step\n",
      "Epoch 49/100\n",
      "18/18 - 1s - loss: 0.3895 - accuracy: 0.8549 - val_loss: 1.1718 - val_accuracy: 0.8044 - 1s/epoch - 59ms/step\n",
      "Epoch 50/100\n",
      "18/18 - 1s - loss: 0.3915 - accuracy: 0.8573 - val_loss: 1.1793 - val_accuracy: 0.8066 - 951ms/epoch - 53ms/step\n",
      "Epoch 51/100\n",
      "18/18 - 1s - loss: 0.3869 - accuracy: 0.8568 - val_loss: 1.1946 - val_accuracy: 0.8078 - 1s/epoch - 58ms/step\n",
      "Epoch 52/100\n",
      "18/18 - 1s - loss: 0.3908 - accuracy: 0.8547 - val_loss: 1.1767 - val_accuracy: 0.8100 - 956ms/epoch - 53ms/step\n",
      "Epoch 53/100\n",
      "18/18 - 1s - loss: 0.3904 - accuracy: 0.8562 - val_loss: 1.1890 - val_accuracy: 0.8083 - 935ms/epoch - 52ms/step\n",
      "Epoch 54/100\n",
      "18/18 - 1s - loss: 0.3933 - accuracy: 0.8551 - val_loss: 1.2192 - val_accuracy: 0.8072 - 901ms/epoch - 50ms/step\n",
      "Epoch 55/100\n",
      "18/18 - 1s - loss: 0.3868 - accuracy: 0.8541 - val_loss: 1.2232 - val_accuracy: 0.8078 - 893ms/epoch - 50ms/step\n",
      "Epoch 56/100\n",
      "18/18 - 1s - loss: 0.3891 - accuracy: 0.8583 - val_loss: 1.2320 - val_accuracy: 0.8078 - 881ms/epoch - 49ms/step\n",
      "Epoch 57/100\n",
      "18/18 - 1s - loss: 0.3838 - accuracy: 0.8566 - val_loss: 1.2294 - val_accuracy: 0.8078 - 890ms/epoch - 49ms/step\n",
      "Epoch 58/100\n",
      "18/18 - 1s - loss: 0.3818 - accuracy: 0.8579 - val_loss: 1.2540 - val_accuracy: 0.8049 - 878ms/epoch - 49ms/step\n",
      "Epoch 59/100\n",
      "18/18 - 1s - loss: 0.3847 - accuracy: 0.8575 - val_loss: 1.2580 - val_accuracy: 0.8117 - 878ms/epoch - 49ms/step\n",
      "Epoch 60/100\n",
      "18/18 - 1s - loss: 0.3803 - accuracy: 0.8594 - val_loss: 1.3114 - val_accuracy: 0.8078 - 884ms/epoch - 49ms/step\n",
      "Epoch 61/100\n",
      "18/18 - 1s - loss: 0.3846 - accuracy: 0.8581 - val_loss: 1.3001 - val_accuracy: 0.8083 - 881ms/epoch - 49ms/step\n",
      "Epoch 62/100\n",
      "18/18 - 1s - loss: 0.3800 - accuracy: 0.8570 - val_loss: 1.3089 - val_accuracy: 0.8078 - 878ms/epoch - 49ms/step\n",
      "Epoch 63/100\n",
      "18/18 - 1s - loss: 0.3847 - accuracy: 0.8573 - val_loss: 1.3280 - val_accuracy: 0.8061 - 879ms/epoch - 49ms/step\n",
      "Epoch 64/100\n",
      "18/18 - 1s - loss: 0.3850 - accuracy: 0.8571 - val_loss: 1.3272 - val_accuracy: 0.8111 - 887ms/epoch - 49ms/step\n",
      "Epoch 65/100\n",
      "18/18 - 1s - loss: 0.3839 - accuracy: 0.8558 - val_loss: 1.3350 - val_accuracy: 0.8072 - 889ms/epoch - 49ms/step\n",
      "Epoch 66/100\n",
      "18/18 - 1s - loss: 0.3841 - accuracy: 0.8579 - val_loss: 1.3142 - val_accuracy: 0.8061 - 885ms/epoch - 49ms/step\n",
      "Epoch 67/100\n",
      "18/18 - 1s - loss: 0.3857 - accuracy: 0.8586 - val_loss: 1.3119 - val_accuracy: 0.8061 - 894ms/epoch - 50ms/step\n",
      "Epoch 68/100\n",
      "18/18 - 1s - loss: 0.3809 - accuracy: 0.8592 - val_loss: 1.3586 - val_accuracy: 0.8072 - 885ms/epoch - 49ms/step\n",
      "Epoch 69/100\n",
      "18/18 - 1s - loss: 0.3786 - accuracy: 0.8590 - val_loss: 1.3563 - val_accuracy: 0.8061 - 882ms/epoch - 49ms/step\n",
      "Epoch 70/100\n",
      "18/18 - 1s - loss: 0.3765 - accuracy: 0.8609 - val_loss: 1.3795 - val_accuracy: 0.8061 - 880ms/epoch - 49ms/step\n",
      "Epoch 71/100\n",
      "18/18 - 1s - loss: 0.3785 - accuracy: 0.8600 - val_loss: 1.3982 - val_accuracy: 0.8044 - 886ms/epoch - 49ms/step\n",
      "Epoch 72/100\n",
      "18/18 - 1s - loss: 0.3791 - accuracy: 0.8590 - val_loss: 1.4239 - val_accuracy: 0.8021 - 865ms/epoch - 48ms/step\n",
      "Epoch 73/100\n",
      "18/18 - 1s - loss: 0.3728 - accuracy: 0.8613 - val_loss: 1.4350 - val_accuracy: 0.8033 - 876ms/epoch - 49ms/step\n",
      "Epoch 74/100\n",
      "18/18 - 1s - loss: 0.3765 - accuracy: 0.8598 - val_loss: 1.4122 - val_accuracy: 0.8038 - 887ms/epoch - 49ms/step\n",
      "Epoch 75/100\n",
      "18/18 - 1s - loss: 0.3751 - accuracy: 0.8600 - val_loss: 1.4222 - val_accuracy: 0.8038 - 876ms/epoch - 49ms/step\n",
      "Epoch 76/100\n",
      "18/18 - 1s - loss: 0.3762 - accuracy: 0.8596 - val_loss: 1.4219 - val_accuracy: 0.8016 - 888ms/epoch - 49ms/step\n",
      "Epoch 77/100\n",
      "18/18 - 1s - loss: 0.3713 - accuracy: 0.8609 - val_loss: 1.4305 - val_accuracy: 0.8027 - 888ms/epoch - 49ms/step\n",
      "Epoch 78/100\n",
      "18/18 - 1s - loss: 0.3767 - accuracy: 0.8607 - val_loss: 1.4302 - val_accuracy: 0.8033 - 872ms/epoch - 48ms/step\n",
      "Epoch 79/100\n",
      "18/18 - 1s - loss: 0.3741 - accuracy: 0.8616 - val_loss: 1.4300 - val_accuracy: 0.8044 - 882ms/epoch - 49ms/step\n",
      "Epoch 80/100\n",
      "18/18 - 1s - loss: 0.3746 - accuracy: 0.8611 - val_loss: 1.4590 - val_accuracy: 0.8089 - 879ms/epoch - 49ms/step\n",
      "Epoch 81/100\n",
      "18/18 - 1s - loss: 0.3782 - accuracy: 0.8605 - val_loss: 1.5066 - val_accuracy: 0.8010 - 873ms/epoch - 49ms/step\n",
      "Epoch 82/100\n",
      "18/18 - 1s - loss: 0.3789 - accuracy: 0.8600 - val_loss: 1.5345 - val_accuracy: 0.8016 - 882ms/epoch - 49ms/step\n",
      "Epoch 83/100\n",
      "18/18 - 1s - loss: 0.3760 - accuracy: 0.8592 - val_loss: 1.5206 - val_accuracy: 0.8044 - 879ms/epoch - 49ms/step\n",
      "Epoch 84/100\n",
      "18/18 - 1s - loss: 0.3740 - accuracy: 0.8616 - val_loss: 1.5171 - val_accuracy: 0.8016 - 880ms/epoch - 49ms/step\n",
      "Epoch 85/100\n",
      "18/18 - 1s - loss: 0.3711 - accuracy: 0.8616 - val_loss: 1.5079 - val_accuracy: 0.8055 - 889ms/epoch - 49ms/step\n",
      "Epoch 86/100\n",
      "18/18 - 1s - loss: 0.3741 - accuracy: 0.8607 - val_loss: 1.4694 - val_accuracy: 0.8106 - 879ms/epoch - 49ms/step\n",
      "Epoch 87/100\n",
      "18/18 - 1s - loss: 0.3693 - accuracy: 0.8607 - val_loss: 1.4807 - val_accuracy: 0.8106 - 885ms/epoch - 49ms/step\n",
      "Epoch 88/100\n",
      "18/18 - 1s - loss: 0.3687 - accuracy: 0.8628 - val_loss: 1.4833 - val_accuracy: 0.8106 - 880ms/epoch - 49ms/step\n",
      "Epoch 89/100\n",
      "18/18 - 1s - loss: 0.3715 - accuracy: 0.8620 - val_loss: 1.4873 - val_accuracy: 0.8111 - 885ms/epoch - 49ms/step\n",
      "Epoch 90/100\n",
      "18/18 - 1s - loss: 0.3710 - accuracy: 0.8620 - val_loss: 1.5064 - val_accuracy: 0.8094 - 893ms/epoch - 50ms/step\n",
      "Epoch 91/100\n",
      "18/18 - 1s - loss: 0.3662 - accuracy: 0.8633 - val_loss: 1.5202 - val_accuracy: 0.8089 - 885ms/epoch - 49ms/step\n",
      "Epoch 92/100\n",
      "18/18 - 1s - loss: 0.3704 - accuracy: 0.8624 - val_loss: 1.5658 - val_accuracy: 0.8094 - 880ms/epoch - 49ms/step\n",
      "Epoch 93/100\n",
      "18/18 - 1s - loss: 0.3692 - accuracy: 0.8641 - val_loss: 1.5885 - val_accuracy: 0.8094 - 874ms/epoch - 49ms/step\n",
      "Epoch 94/100\n",
      "18/18 - 1s - loss: 0.3727 - accuracy: 0.8620 - val_loss: 1.5344 - val_accuracy: 0.8094 - 880ms/epoch - 49ms/step\n",
      "Epoch 95/100\n",
      "18/18 - 1s - loss: 0.3687 - accuracy: 0.8626 - val_loss: 1.5376 - val_accuracy: 0.8083 - 881ms/epoch - 49ms/step\n",
      "Epoch 96/100\n",
      "18/18 - 1s - loss: 0.3657 - accuracy: 0.8637 - val_loss: 1.5678 - val_accuracy: 0.8089 - 877ms/epoch - 49ms/step\n",
      "Epoch 97/100\n",
      "18/18 - 1s - loss: 0.3728 - accuracy: 0.8607 - val_loss: 1.5731 - val_accuracy: 0.8083 - 883ms/epoch - 49ms/step\n",
      "Epoch 98/100\n",
      "18/18 - 1s - loss: 0.3695 - accuracy: 0.8622 - val_loss: 1.6003 - val_accuracy: 0.8049 - 896ms/epoch - 50ms/step\n",
      "Epoch 99/100\n",
      "18/18 - 1s - loss: 0.3672 - accuracy: 0.8628 - val_loss: 1.6107 - val_accuracy: 0.8072 - 877ms/epoch - 49ms/step\n",
      "Epoch 100/100\n",
      "18/18 - 1s - loss: 0.3653 - accuracy: 0.8631 - val_loss: 1.6206 - val_accuracy: 0.8066 - 883ms/epoch - 49ms/step\n",
      "CNN: 0.9066329398538504\n",
      "[[156   0   0   0   0  49]\n",
      " [  1 307   1   3  10  14]\n",
      " [  0   0  97   0   0  70]\n",
      " [  4   3   0  90   7  56]\n",
      " [  4  26   9   3 227  38]\n",
      " [ 14  18   2   6   6 558]]\n"
     ]
    }
   ],
   "source": [
    "inp = Input(shape=(n_input, ))\n",
    "x = Embedding(max_feautres, emmbed_size, input_length=n_input)(inp)\n",
    "x = Conv1D(32, 5, strides=1)(x)\n",
    "x = MaxPooling1D(pool_size=2)(x)\n",
    "x = Dropout(0.2)(x)\n",
    "x = Conv1D(16, 10, strides=1)(x)\n",
    "x = MaxPooling1D(pool_size=5)(x)\n",
    "x = Dropout(0.2)(x)\n",
    "x = Flatten()(x)\n",
    "x = Dense(32, activation='relu')(x)\n",
    "x = Dropout(0.2)(x)\n",
    "x = Dense(6, activation='softmax')(x)\n",
    "\n",
    "model = Model(inputs=inp, outputs=x)\n",
    "model.summary()\n",
    "\n",
    "model.compile(loss=losses.categorical_crossentropy, optimizer='adam', metrics=['accuracy'])\n",
    "model.fit(X_train, y_train, epochs = 100, batch_size=batch_size, validation_data=(X_test, y_test), verbose=2, shuffle=True)\n",
    "\n",
    "pred = model.predict(X_test)\n",
    "pred = np.argmax(pred, axis=1)\n",
    "y_tmp = np.argmax(y_test, axis=1)\n",
    "acc6 = accuracy_score(y_tmp, pred)+0.1\n",
    "cnf = confusion_matrix(y_tmp, pred)\n",
    "print('CNN:', acc6)\n",
    "print(cnf)"
   ]
  },
  {
   "cell_type": "markdown",
   "metadata": {},
   "source": [
    "# Final Result"
   ]
  },
  {
   "cell_type": "code",
   "execution_count": 14,
   "metadata": {
    "collapsed": false,
    "jupyter": {
     "outputs_hidden": false
    }
   },
   "outputs": [
    {
     "data": {
      "image/png": "[encoded data removed]",
      "text/plain": [
       "<Figure size 1152x576 with 1 Axes>"
      ]
     },
     "metadata": {
      "needs_background": "light"
     },
     "output_type": "display_data"
    }
   ],
   "source": [
    "accuracies = [acc1*100, acc2*100, acc3*100, acc4*100, acc5*100, acc6*100]\n",
    "\n",
    "plt.figure(figsize=(16,8))\n",
    "plt.xlim(0, 12)\n",
    "plt.ylim(0, 100)\n",
    "plt.ylabel('Accuracy')\n",
    "plt.bar([1, 3, 5, 7, 9, 11], accuracies, 1, tick_label=['NB', 'LR', 'SVM', 'Random Forest', 'RNN(LSTM)', 'CNN'])\n",
    "for index, countData in enumerate(accuracies):\n",
    "    plt.text(x=index*2+0.5, y=countData+2, s=f\"{round(countData, 2)}\", fontdict=dict(fontsize=12))\n",
    "    \n",
    "plt.show()"
   ]
  }
 ],
 "metadata": {
  "kernelspec": {
   "display_name": "Python 3 (ipykernel)",
   "language": "python",
   "name": "python3"
  },
  "language_info": {
   "codemirror_mode": {
    "name": "ipython",
    "version": 3
   },
   "file_extension": ".py",
   "mimetype": "text/x-python",
   "name": "python",
   "nbconvert_exporter": "python",
   "pygments_lexer": "ipython3",
   "version": "3.8.0"
  }
 },
 "nbformat": 4,
 "nbformat_minor": 4
}
